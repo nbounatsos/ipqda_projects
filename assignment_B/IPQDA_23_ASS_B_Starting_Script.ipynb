{
 "cells": [
  {
   "attachments": {},
   "cell_type": "markdown",
   "metadata": {},
   "source": [
    "# Assignment B - RhoA activation and inhibition analysis using FRET\n",
    "### Author: Aoming Sun\n",
    "### Date: 7th June, 2023"
   ]
  },
  {
   "cell_type": "code",
   "execution_count": null,
   "metadata": {},
   "outputs": [],
   "source": [
    "#Libraries\n",
    "import numpy as np\n",
    "import numpy.ma as ma\n",
    "from scipy import ndimage\n",
    "from skimage import exposure, transform, io\n",
    "import matplotlib\n",
    "matplotlib.use('TkAgg')\n",
    "import matplotlib.pyplot as plt\n",
    "import tifffile as tif\n",
    "import PIL\n",
    "import napari\n",
    "from skimage.registration import phase_cross_correlation\n",
    "from skimage.transform import AffineTransform, warp\n",
    "from scipy.ndimage import fourier_shift"
   ]
  },
  {
   "attachments": {},
   "cell_type": "markdown",
   "metadata": {
    "collapsed": false
   },
   "source": [
    "## Import and inspect the image data"
   ]
  },
  {
   "cell_type": "code",
   "execution_count": null,
   "metadata": {
    "ExecuteTime": {
     "end_time": "2023-06-06T15:09:17.609258600Z",
     "start_time": "2023-06-06T15:09:17.544844800Z"
    },
    "collapsed": false
   },
   "outputs": [],
   "source": [
    "#Start coding here\n",
    "filepath =''\n",
    "image = \n",
    "#End coding here"
   ]
  },
  {
   "cell_type": "code",
   "execution_count": null,
   "metadata": {
    "ExecuteTime": {
     "end_time": "2023-06-06T15:09:17.609258600Z",
     "start_time": "2023-06-06T15:09:17.577720Z"
    },
    "collapsed": false
   },
   "outputs": [],
   "source": [
    "# #2.Use PIL\n",
    "# import numpy as np\n",
    "# from PIL import Image\n",
    "# img = Image.open(file)\n",
    "# image = np.array(img)"
   ]
  },
  {
   "cell_type": "code",
   "execution_count": null,
   "metadata": {
    "ExecuteTime": {
     "end_time": "2023-06-06T15:09:17.706025900Z",
     "start_time": "2023-06-06T15:09:17.592225200Z"
    },
    "collapsed": false
   },
   "outputs": [
    {
     "data": {
      "text/plain": [
       "(121, 2, 512, 672)"
      ]
     },
     "execution_count": 58,
     "metadata": {},
     "output_type": "execute_result"
    }
   ],
   "source": [
    "image = io.imread(file)\n",
    "image.shape"
   ]
  },
  {
   "attachments": {},
   "cell_type": "markdown",
   "metadata": {
    "collapsed": false
   },
   "source": [
    "## Extract both the donor and acceptor channels (donor = channel 1 and acceptor = channel 2)"
   ]
  },
  {
   "cell_type": "code",
   "execution_count": null,
   "metadata": {
    "ExecuteTime": {
     "end_time": "2023-06-06T15:09:17.768635500Z",
     "start_time": "2023-06-06T15:09:17.706025900Z"
    },
    "collapsed": false
   },
   "outputs": [],
   "source": [
    "# Start coding here\n",
    "donor_channel = \n",
    "acceptor_channel = \n",
    "# End coding here"
   ]
  },
  {
   "attachments": {},
   "cell_type": "markdown",
   "metadata": {
    "collapsed": false
   },
   "source": [
    "## Calclate and plot the z-projections (use mean) of both channels"
   ]
  },
  {
   "cell_type": "code",
   "execution_count": null,
   "metadata": {
    "ExecuteTime": {
     "end_time": "2023-06-06T15:09:17.806101900Z",
     "start_time": "2023-06-06T15:09:17.737376500Z"
    },
    "collapsed": false
   },
   "outputs": [],
   "source": [
    "# Start coding here\n",
    "z_project_donor = \n",
    "z_project_acceptor = \n",
    "# End coding here"
   ]
  },
  {
   "cell_type": "code",
   "execution_count": null,
   "metadata": {
    "ExecuteTime": {
     "end_time": "2023-06-06T15:09:20.030317100Z",
     "start_time": "2023-06-06T15:09:17.800091200Z"
    },
    "collapsed": false
   },
   "outputs": [],
   "source": [
    "# Plot z-projections\n",
    "plt.imshow(z_project_donor)\n",
    "plt.show()"
   ]
  },
  {
   "cell_type": "code",
   "execution_count": null,
   "metadata": {
    "ExecuteTime": {
     "end_time": "2023-06-06T15:09:21.242761500Z",
     "start_time": "2023-06-06T15:09:20.010852600Z"
    },
    "collapsed": false
   },
   "outputs": [],
   "source": [
    "plt.imshow(z_project_acceptor)\n",
    "plt.show()"
   ]
  },
  {
   "attachments": {},
   "cell_type": "markdown",
   "metadata": {},
   "source": [
    "## Extract background mask (region with no cell(s))\n",
    "Refer to Tutorial 2 for steps to create mask of region of interest (ROI)"
   ]
  },
  {
   "cell_type": "code",
   "execution_count": null,
   "metadata": {
    "ExecuteTime": {
     "end_time": "2023-06-06T15:09:21.242761500Z",
     "start_time": "2023-06-06T15:09:21.229300200Z"
    },
    "collapsed": false
   },
   "outputs": [],
   "source": [
    "# Start coding here\n",
    "background_mask = \n",
    "\n",
    "# End coding here"
   ]
  },
  {
   "attachments": {},
   "cell_type": "markdown",
   "metadata": {
    "collapsed": false
   },
   "source": [
    "## Calculate average background intensity and also the standard deviation for all time frames and both channels. Plot them vs time."
   ]
  },
  {
   "cell_type": "code",
   "execution_count": null,
   "metadata": {
    "ExecuteTime": {
     "end_time": "2023-06-06T15:09:30.021482200Z",
     "start_time": "2023-06-06T15:09:27.196644Z"
    },
    "collapsed": false
   },
   "outputs": [],
   "source": [
    "# Mean and std dev calculation\n",
    "# Start coding here\n",
    "mean_donor = \n",
    "mean_acceptor = \n",
    "stddev_donor = \n",
    "stddev_acceptor = \n",
    "\n",
    "\n",
    "# End coding here"
   ]
  },
  {
   "cell_type": "code",
   "execution_count": null,
   "metadata": {},
   "outputs": [],
   "source": [
    "#Plotting \n",
    "plt.plot(mean_donor,label='donor')\n",
    "plt.plot(mean_acceptor,label='acceptor')\n",
    "# Set the labels\n",
    "plt.xlabel('time')\n",
    "plt.ylabel('intensity')\n",
    "# Set the legend\n",
    "plt.legend()\n",
    "plt.show()\n",
    "plt.close()\n",
    "\n",
    "plt.plot(stddev_donor,label='donor')\n",
    "plt.plot(stddev_acceptor,label='acceptor')\n",
    "plt.xlabel('time')\n",
    "plt.ylabel('intensity')\n",
    "\n",
    "# Set the legend\n",
    "plt.legend()\n",
    "plt.show()"
   ]
  },
  {
   "attachments": {},
   "cell_type": "markdown",
   "metadata": {},
   "source": [
    "## Image processing steps"
   ]
  },
  {
   "cell_type": "code",
   "execution_count": null,
   "metadata": {
    "ExecuteTime": {
     "end_time": "2023-06-06T15:09:30.038310100Z",
     "start_time": "2023-06-06T15:09:30.025061900Z"
    },
    "collapsed": false
   },
   "outputs": [],
   "source": [
    "#Initializing parameters\n",
    "\n",
    "# Define a smoothing kernel\n",
    "ks = (3,3) # kernel size should be a tuple\n",
    "kernel = np.ones(ks) / np.prod(ks) # create box filter kernel\n",
    "\n",
    "# Initialize output array\n",
    "corrected_frames = np.zeros_like(image,dtype=np.float64)"
   ]
  },
  {
   "cell_type": "code",
   "execution_count": null,
   "metadata": {},
   "outputs": [],
   "source": [
    "#Preparing the image data\n",
    "# Convert pixel type to float\n",
    "image = image.astype(np.float64)\n",
    "\n",
    "# Channels extraction\n",
    "donor_channel = image[:,0,:,:]\n",
    "acceptor_channel = image[:,1,:,:]"
   ]
  },
  {
   "cell_type": "code",
   "execution_count": null,
   "metadata": {
    "ExecuteTime": {
     "end_time": "2023-06-06T15:09:37.835910900Z",
     "start_time": "2023-06-06T15:09:30.179724300Z"
    },
    "collapsed": false
   },
   "outputs": [],
   "source": [
    "#Now they begin - image processing\n",
    "\n",
    "for t in range(image.shape[0]):\n",
    "    \n",
    "    #######################################\n",
    "    ##Background substraction\n",
    "    #Start coding here\n",
    "    donor_channel[t, :, :] =\n",
    "    acceptor_channel[t, :, :] =\n",
    "\n",
    "    #######################################\n",
    "    ##Image registration\n",
    "    #Calculate the shift between the two images\n",
    "    shift, error, diffphase = \n",
    "\n",
    "    #Create an affine transform object with the shift\n",
    "    tform = \n",
    "\n",
    "    #Apply the transformation to the image \n",
    "    corrected_image = \n",
    "\n",
    "    # Replace the original channel with the corrected channel\n",
    "    acceptor_channel[t, :, :] = corrected_image\n",
    "\n",
    "    #######################################\n",
    "    ##Image processing steps to reduce noise\n",
    "    ##Smoothing (hint: use the created kernel)\n",
    "    donor_channel[t, :, :] = \n",
    "    acceptor_channel[t, :, :] = \n",
    "\n",
    "    #Thresholding so that pixels with low signal are assigned with np.nan. \n",
    "    #Use the background mean and standard deviation intensity in this step to form a threshold value\n",
    "    \n",
    "    #Well done. Let's keep the corrected frames\n",
    "    corrected_frames[t, 1, :, :] = acceptor_channel[t, :, :]\n",
    "    corrected_frames[t, 0, :, :] = donor_channel[t, :, :]\n",
    "    print(f'{t} of {image.shape[0]}')\n",
    "        \n",
    "\n",
    "    # End coding here"
   ]
  },
  {
   "cell_type": "code",
   "execution_count": null,
   "metadata": {
    "ExecuteTime": {
     "end_time": "2023-06-06T15:12:53.612325800Z",
     "start_time": "2023-06-06T15:12:50.565883Z"
    },
    "collapsed": false
   },
   "outputs": [],
   "source": [
    "#Plotting\n",
    "plt.imshow(corrected_frames[12, 0,:,:])\n",
    "plt.show()"
   ]
  },
  {
   "cell_type": "code",
   "execution_count": null,
   "metadata": {
    "ExecuteTime": {
     "end_time": "2023-06-06T15:14:38.628252800Z",
     "start_time": "2023-06-06T15:14:32.247759Z"
    },
    "collapsed": false
   },
   "outputs": [],
   "source": [
    "# Calculate FRET ratios. R = Acceptor/Donor\n",
    "# Start coding here\n",
    "ratio = \n",
    "\n",
    "\n",
    "# End coding here\n",
    "\n",
    "#Plot a layer\n",
    "plt.imshow(ratio[12,:,:])\n",
    "plt.show()"
   ]
  },
  {
   "cell_type": "code",
   "execution_count": null,
   "metadata": {
    "ExecuteTime": {
     "end_time": "2023-06-06T15:14:42.019015800Z",
     "start_time": "2023-06-06T15:14:41.685363600Z"
    },
    "collapsed": false
   },
   "outputs": [],
   "source": [
    "# Export the FRET ratios images as an animated gif \n",
    "# Start coding here\n",
    "\n",
    "\n",
    "# End coding here"
   ]
  }
 ],
 "metadata": {
  "kernelspec": {
   "display_name": "Python 3",
   "language": "python",
   "name": "python3"
  },
  "language_info": {
   "codemirror_mode": {
    "name": "ipython",
    "version": 2
   },
   "file_extension": ".py",
   "mimetype": "text/x-python",
   "name": "python",
   "nbconvert_exporter": "python",
   "pygments_lexer": "ipython2",
   "version": "2.7.6"
  }
 },
 "nbformat": 4,
 "nbformat_minor": 0
}
