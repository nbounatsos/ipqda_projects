{
 "cells": [
  {
   "attachments": {},
   "cell_type": "markdown",
   "metadata": {},
   "source": [
    "## Assignment E - Brightfield histology color deconvolution\n",
    "- Author: Catherine Chia and Aoming Sun\n",
    "- Teacher and TAs: Marten Postma, Aaron Lin, Aoming Sun, Catherine Chia\n",
    "- Date: 21st June, 2023"
   ]
  },
  {
   "attachments": {},
   "cell_type": "markdown",
   "metadata": {},
   "source": [
    "### Outline of workflow\n",
    "1. Prerequisites: \n",
    "- Use ImageJ to crop and export images: Stain 1, Stain 2, Background, __OR__ \n",
    "- Use ImageJ to export the RGB vectors for the same images\n",
    "\n",
    "2. Preprocessing\n",
    "\n",
    "3. Color Deconvolution\n",
    "\n",
    "4. Separate stains"
   ]
  },
  {
   "cell_type": "code",
   "execution_count": null,
   "metadata": {},
   "outputs": [],
   "source": [
    "#Libraries\n",
    "from matplotlib import pyplot as plt, patches\n",
    "import numpy as np\n",
    "\n",
    "#Enable nice output printing features\n",
    "from IPython.core.interactiveshell import InteractiveShell\n",
    "InteractiveShell.ast_node_interactivity = 'last_expr_or_assign'\n",
    "import warnings\n",
    "warnings.filterwarnings('ignore')\n",
    "\n",
    "#Add other libraries as you see fit\n",
    "\n"
   ]
  },
  {
   "attachments": {},
   "cell_type": "markdown",
   "metadata": {},
   "source": [
    "### __Preprocessing steps__"
   ]
  },
  {
   "cell_type": "code",
   "execution_count": null,
   "metadata": {},
   "outputs": [],
   "source": [
    "#Start coding here\n",
    "\n",
    "#Import IHC image and split it to RGB\n",
    "img_ihc = \n",
    "\n",
    "#Import cropped stain1, stain2 and background ROI images, OR import RGB vectors of the ROIs\n",
    "img_stain1 = \n",
    "img_stain2 = \n",
    "img_background = \n",
    "\n",
    "#End coding here"
   ]
  },
  {
   "cell_type": "code",
   "execution_count": null,
   "metadata": {},
   "outputs": [],
   "source": [
    "#Inspect imported IHC image\n",
    "plt.title(\"Raw IHC image\")\n",
    "plt.axis('off')\n",
    "plt.imshow(img_ihc)"
   ]
  },
  {
   "attachments": {},
   "cell_type": "markdown",
   "metadata": {},
   "source": [
    "### Calculate RGB mean of the images"
   ]
  },
  {
   "cell_type": "code",
   "execution_count": null,
   "metadata": {},
   "outputs": [],
   "source": [
    "#Start coding here\n",
    "\n",
    "#Calculate mean of image for each RGB channels. If you use RGB vectors, assign them directly to the variables here\n",
    "mean_img_stain1 = \n",
    "mean_img_stain2 = \n",
    "mean_img_background = \n",
    "\n",
    "#End coding here\n",
    "\n",
    "print(mean_img_stain1)\n",
    "print(mean_img_stain2)\n",
    "print(mean_img_background)"
   ]
  },
  {
   "attachments": {},
   "cell_type": "markdown",
   "metadata": {},
   "source": [
    "### Inspect ROIs of stains and background to ensure correct stain color selection"
   ]
  },
  {
   "cell_type": "code",
   "execution_count": null,
   "metadata": {},
   "outputs": [],
   "source": [
    "#Convert RGB values to Hex color values for visualization\n",
    "hex_img_stain1 = '#%02x%02x%02x' % tuple(mean_img_stain1.astype(int))\n",
    "hex_img_stain2 = '#%02x%02x%02x' % tuple(mean_img_stain2.astype(int))\n",
    "hex_img_background = '#%02x%02x%02x' % tuple(mean_img_background.astype(int))\n",
    "\n",
    "print(hex_img_stain1)\n",
    "print(hex_img_stain2)\n",
    "print(hex_img_background)\n",
    "\n",
    "#Visualization of RGB mean of cropped images\n",
    "fig, axs = plt.subplots(1,3)\n",
    "\n",
    "fig.suptitle('RGB mean of cropped images')\n",
    "\n",
    "rectangle_stain1 = patches.Rectangle((0, 0), 1, 1, facecolor=hex_img_stain1)\n",
    "rectangle_stain2 = patches.Rectangle((0, 0), 1, 1, facecolor=hex_img_stain2)\n",
    "rectangle_background = patches.Rectangle((0, 0), 1, 1, facecolor=hex_img_background)\n",
    "\n",
    "axs[0].add_patch(rectangle_stain1)\n",
    "axs[1].add_patch(rectangle_stain2)\n",
    "axs[2].add_patch(rectangle_background)\n",
    "axs[0].set_title('Stain 1')\n",
    "axs[1].set_title('Stain 2')\n",
    "axs[2].set_title('Background')\n",
    "\n",
    "axs[0].axis('off')\n",
    "axs[1].axis('off')\n",
    "axs[2].axis('off')\n",
    "plt.show()"
   ]
  },
  {
   "attachments": {},
   "cell_type": "markdown",
   "metadata": {},
   "source": [
    "### __Color Deconvolution__"
   ]
  },
  {
   "attachments": {},
   "cell_type": "markdown",
   "metadata": {},
   "source": [
    "### Calculate transmittance, T and convert it to absorbances, OD according to Beer–Lambert law  "
   ]
  },
  {
   "cell_type": "code",
   "execution_count": null,
   "metadata": {},
   "outputs": [],
   "source": [
    "#Calculate transmittances, T for each stain\n",
    "T_stain1 = mean_img_background/mean_img_stain1\n",
    "T_stain2 = mean_img_background/mean_img_stain2\n",
    "OD_stain1 = np.log10(T_stain1)\n",
    "OD_stain2 = np.log10(T_stain2)\n",
    "\n",
    "print(OD_stain1)\n",
    "print(OD_stain2)"
   ]
  },
  {
   "attachments": {},
   "cell_type": "markdown",
   "metadata": {},
   "source": [
    "### Normalize the absorbances to vector lengths"
   ]
  },
  {
   "cell_type": "code",
   "execution_count": null,
   "metadata": {},
   "outputs": [],
   "source": [
    "#Start coding here\n",
    "\n",
    "#Normalize the absorbances \n",
    "OD_stain1_norm = \n",
    "OD_stain2_norm = \n",
    "\n",
    "#End coding here\n",
    "\n",
    "print(OD_stain1_norm)\n",
    "print(OD_stain2_norm)"
   ]
  },
  {
   "attachments": {},
   "cell_type": "markdown",
   "metadata": {},
   "source": [
    "### Form a deconvolution matrix"
   ]
  },
  {
   "cell_type": "code",
   "execution_count": null,
   "metadata": {},
   "outputs": [],
   "source": [
    "#Start coding here\n",
    "\n",
    "#Combine OD_stain1_norm and OD_stain2_norm to form a normalized OD matrix M\n",
    "M = np.column_stack((OD_stain1_norm, OD_stain2_norm))\n",
    "\n",
    "#Calculate the deconvolution matrix according to Linear regression\n",
    "MT = \n",
    "MT_M = \n",
    "inversed_MT_M = \n",
    "D = \n",
    "\n",
    "#End coding here\n",
    "\n",
    "print(\"M\")\n",
    "print(M)\n",
    "print(\"M transposed\")\n",
    "print(MT)\n",
    "print(\"Inversed M transposed multiplied with M\")\n",
    "print(inversed_MT_M)\n",
    "print(\"Deconvolution matrix, D\")\n",
    "print(D)"
   ]
  },
  {
   "attachments": {},
   "cell_type": "markdown",
   "metadata": {},
   "source": [
    "### Calculate the coefficient for each stain "
   ]
  },
  {
   "cell_type": "code",
   "execution_count": null,
   "metadata": {},
   "outputs": [],
   "source": [
    "#Convert pixel intensity to transmittance to absorbance according to Beer-Lambert Law on the IHC image\n",
    "#Calculate the transmittance\n",
    "T_img_ihc = mean_img_background/img_ihc\n",
    "\n",
    "#Because of the logarithmic function in the next step, we assign all transmittance value less than 1 to 1 \n",
    "T_img_ihc[T_img_ihc<1] = 1"
   ]
  },
  {
   "cell_type": "code",
   "execution_count": null,
   "metadata": {},
   "outputs": [],
   "source": [
    "#Start coding here\n",
    "\n",
    "#Calculate the absorbance\n",
    "OD_img_ihc = \n",
    "\n",
    "\n",
    "#Coefficient matrix\n",
    "coeffs = \n",
    "\n",
    "\n",
    "#Extracting the individual coefficients from the coefficient matrix\n",
    "#Which are essentially the orthogonal representation of the stains of the IHC image\n",
    "coeff_stain1 = \n",
    "coeff_stain2 = \n",
    "\n",
    "\n",
    "#End coding here\n",
    "\n",
    "print(coeff_stain1.shape)\n",
    "print(coeff_stain2.shape)"
   ]
  },
  {
   "attachments": {},
   "cell_type": "markdown",
   "metadata": {},
   "source": [
    "### __Separate stains__"
   ]
  },
  {
   "attachments": {},
   "cell_type": "markdown",
   "metadata": {},
   "source": [
    "### Multiply the coefficients with the stain absorbance to get the image absorbance per stain"
   ]
  },
  {
   "cell_type": "code",
   "execution_count": null,
   "metadata": {},
   "outputs": [],
   "source": [
    "#Initialize the image absorbance container per stain\n",
    "OD_img_ihc_stain1 = np.zeros((img_ihc.shape[0], img_ihc.shape[1], img_ihc.shape[2]))\n",
    "OD_img_ihc_stain2 = np.zeros((img_ihc.shape[0], img_ihc.shape[1], img_ihc.shape[2]))\n",
    "\n",
    "\n",
    "#Start coding here\n",
    "\n",
    "#Multiply the coefficients with the stain absorbance per stain. Do it independently for each RGB layer\n",
    "\n",
    "\n",
    "\n",
    "#End coding here"
   ]
  },
  {
   "attachments": {},
   "cell_type": "markdown",
   "metadata": {},
   "source": [
    "### Convert the image absorbance to image transmittance  "
   ]
  },
  {
   "cell_type": "code",
   "execution_count": null,
   "metadata": {},
   "outputs": [],
   "source": [
    "#Convert absorbance to transmittance\n",
    "T_img_ihc_stain1 = 10**(-OD_img_ihc_stain1)\n",
    "T_img_ihc_stain2 = 10**(-OD_img_ihc_stain2)"
   ]
  },
  {
   "attachments": {},
   "cell_type": "markdown",
   "metadata": {},
   "source": [
    "### Clip each layer in the image transmittance to values between 0 and 1, preparing for conversion to values between 0 and 255 later"
   ]
  },
  {
   "cell_type": "code",
   "execution_count": null,
   "metadata": {},
   "outputs": [],
   "source": [
    "#Clip each layer to 0,1\n",
    "T_img_ihc_stain1[T_img_ihc_stain1>1] = 1\n",
    "T_img_ihc_stain2[T_img_ihc_stain2>1] = 1\n",
    "T_img_ihc_stain1[T_img_ihc_stain1<0] = 0\n",
    "T_img_ihc_stain2[T_img_ihc_stain2<0] = 0\n",
    "T_img_ihc_stain1_norm = T_img_ihc_stain1\n",
    "T_img_ihc_stain2_norm = T_img_ihc_stain2"
   ]
  },
  {
   "attachments": {},
   "cell_type": "markdown",
   "metadata": {},
   "source": [
    "### Convert the image transmittance to values between 0 and 255 (integers), so that plotting is possible"
   ]
  },
  {
   "cell_type": "code",
   "execution_count": null,
   "metadata": {},
   "outputs": [],
   "source": [
    "#Start coding here\n",
    "\n",
    "T_img_ihc_stain1_norm = \n",
    "\n",
    "T_img_ihc_stain2_norm = \n",
    "\n",
    "#End coding here\n"
   ]
  },
  {
   "attachments": {},
   "cell_type": "markdown",
   "metadata": {},
   "source": [
    "### Visualize deconvolved images"
   ]
  },
  {
   "cell_type": "code",
   "execution_count": null,
   "metadata": {},
   "outputs": [],
   "source": [
    "#Display deconvolved image for stain 1\n",
    "fig = plt.figure(dpi=300)\n",
    "plt.title(\"Deconvolved image for stain 1\")\n",
    "plt.axis('off')\n",
    "plt.imshow(T_img_ihc_stain1_norm)\n",
    "fig.savefig('T_img_ihc_stain1_norm.tif')\n"
   ]
  },
  {
   "cell_type": "code",
   "execution_count": null,
   "metadata": {},
   "outputs": [],
   "source": [
    "#Display and export deconvolved image for stain 1\n",
    "fig = plt.figure(dpi=300)\n",
    "plt.title(\"Deconvolved image for stain 2\")\n",
    "plt.axis('off')\n",
    "plt.imshow(T_img_ihc_stain2_norm)\n",
    "fig.savefig('T_img_ihc_stain2_norm.tif')"
   ]
  }
 ],
 "metadata": {
  "kernelspec": {
   "display_name": "Python 3 (ipykernel)",
   "language": "python",
   "name": "python3"
  },
  "orig_nbformat": 4
 },
 "nbformat": 4,
 "nbformat_minor": 2
}
